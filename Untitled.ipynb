{
 "cells": [
  {
   "cell_type": "code",
   "execution_count": 1,
   "id": "216e1851-5a48-4107-9483-b806d3ea2646",
   "metadata": {},
   "outputs": [],
   "source": [
    "from bow_dmg_calculator import bow_dmg_calculator"
   ]
  },
  {
   "cell_type": "markdown",
   "id": "6ef1f692-a696-471d-9779-0b49673ddeeb",
   "metadata": {},
   "source": [
    "### 百龙属性弓 225 20 0会心"
   ]
  },
  {
   "cell_type": "code",
   "execution_count": 9,
   "id": "e620f361-f879-4cc6-9b56-aca2fb37c9b3",
   "metadata": {},
   "outputs": [
    {
     "data": {
      "text/plain": [
       "303.87500000000006"
      ]
     },
     "execution_count": 9,
     "metadata": {},
     "output_type": "execute_result"
    }
   ],
   "source": [
    "#总攻击力 8舍9入\n",
    "#刚力挽弓1.1，猫太鼓1.05，符爪15，种子粉尘各10，催眠术9\n",
    "225 * 1.1 * 1.05 + 15 + 10 + 10 + 9"
   ]
  },
  {
   "cell_type": "code",
   "execution_count": 3,
   "id": "c7711e38-c574-4612-9234-68dea9d8fd85",
   "metadata": {},
   "outputs": [
    {
     "data": {
      "text/plain": [
       "20"
      ]
     },
     "execution_count": 3,
     "metadata": {},
     "output_type": "execute_result"
    }
   ],
   "source": [
    "#总属性 8舍9入\n",
    "20"
   ]
  },
  {
   "cell_type": "code",
   "execution_count": null,
   "id": "14b278ef-18b5-4776-808c-f74b544fb858",
   "metadata": {},
   "outputs": [],
   "source": [
    "#lv5箭种动作值\n",
    "#连射11\n",
    "#贯通12\n",
    "#扩散10"
   ]
  },
  {
   "cell_type": "code",
   "execution_count": 6,
   "id": "fdddd335-5fcf-41a8-bdf7-0c4b9d36721e",
   "metadata": {},
   "outputs": [
    {
     "data": {
      "text/plain": [
       "1.4175000000000002"
      ]
     },
     "execution_count": 6,
     "metadata": {},
     "output_type": "execute_result"
    }
   ],
   "source": [
    "#物理额外补正\n",
    "#团子射击术 20%概率1.1倍\n",
    "#空栖/龙种特效 1.05\n",
    "#弹种强化3 1.2\n",
    "#强击瓶 1.35\n",
    "1.05 * 1.35"
   ]
  },
  {
   "cell_type": "code",
   "execution_count": null,
   "id": "509a2299-cd3a-4e0a-bf0e-ed508f9c088c",
   "metadata": {},
   "outputs": [],
   "source": [
    "#属性额外补正"
   ]
  },
  {
   "cell_type": "code",
   "execution_count": 10,
   "id": "d54b678b-1d19-4630-9a82-b1be94cc8414",
   "metadata": {},
   "outputs": [
    {
     "data": {
      "text/plain": [
       "(101, 81, 7, 98.0)"
      ]
     },
     "execution_count": 10,
     "metadata": {},
     "output_type": "execute_result"
    }
   ],
   "source": [
    "bow_dmg_calculator(total_phys_dmg = 306,\n",
    "                   total_elem_dmg = 20,\n",
    "                   action_value = 11,\n",
    "                   phys_additions = 1.4175,\n",
    "                   elem_additions = 1,\n",
    "                   crit_prob = 0.5,\n",
    "                   crit_power = 1.25,\n",
    "                   phys_abs = 100,\n",
    "                   elem_abs = 30)"
   ]
  },
  {
   "cell_type": "code",
   "execution_count": null,
   "id": "93a5a35a-48b5-4d50-8344-aac7a68e0ff9",
   "metadata": {},
   "outputs": [],
   "source": [
    "88 108"
   ]
  }
 ],
 "metadata": {
  "kernelspec": {
   "display_name": "Python 3 (ipykernel)",
   "language": "python",
   "name": "python3"
  },
  "language_info": {
   "codemirror_mode": {
    "name": "ipython",
    "version": 3
   },
   "file_extension": ".py",
   "mimetype": "text/x-python",
   "name": "python",
   "nbconvert_exporter": "python",
   "pygments_lexer": "ipython3",
   "version": "3.9.10"
  }
 },
 "nbformat": 4,
 "nbformat_minor": 5
}
